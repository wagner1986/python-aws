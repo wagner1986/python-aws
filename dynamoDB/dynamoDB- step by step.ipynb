{
 "cells": [
  {
   "cell_type": "code",
   "execution_count": 1,
   "metadata": {},
   "outputs": [],
   "source": [
    "import boto3\n",
    "import json\n",
    "import decimal\n",
    "\n",
    "# Helper class to convert a DynamoDB item to JSON.\n",
    "class DecimalEncoder(json.JSONEncoder):\n",
    "    def default(self, o):\n",
    "        if isinstance(o, decimal.Decimal):\n",
    "            if abs(o) % 1 > 0:\n",
    "                return float(o)\n",
    "            else:\n",
    "                return int(o)\n",
    "        return super(DecimalEncoder, self).default(o)\n"
   ]
  },
  {
   "cell_type": "markdown",
   "metadata": {},
   "source": [
    "## conectando ao recurso dynamoDB"
   ]
  },
  {
   "cell_type": "code",
   "execution_count": 2,
   "metadata": {},
   "outputs": [],
   "source": [
    "dynamodb = boto3.resource('dynamodb', region_name='us-east-1')\n",
    "\n",
    "table = dynamodb.Table('Movies')\n",
    "\n"
   ]
  },
  {
   "cell_type": "markdown",
   "metadata": {},
   "source": [
    "### Criando tabela"
   ]
  },
  {
   "cell_type": "raw",
   "metadata": {},
   "source": [
    "table = dynamodb.create_table(\n",
    "    TableName='Movies',\n",
    "    KeySchema=[\n",
    "        {\n",
    "            'AttributeName': 'year',\n",
    "            'KeyType': 'HASH'  #Partition key\n",
    "        },\n",
    "        {\n",
    "            'AttributeName': 'title',\n",
    "            'KeyType': 'RANGE'  #Sort key\n",
    "        }\n",
    "    ],\n",
    "    AttributeDefinitions=[\n",
    "        {\n",
    "            'AttributeName': 'year',\n",
    "            'AttributeType': 'N'\n",
    "        },\n",
    "        {\n",
    "            'AttributeName': 'title',\n",
    "            'AttributeType': 'S'\n",
    "        },\n",
    "\n",
    "    ],\n",
    "    ProvisionedThroughput={\n",
    "        'ReadCapacityUnits': 1,\n",
    "        'WriteCapacityUnits': 1\n",
    "    }\n",
    ")\n",
    "\n",
    "print(\"Table status:\", table.table_status)"
   ]
  },
  {
   "cell_type": "code",
   "execution_count": 3,
   "metadata": {},
   "outputs": [],
   "source": [
    "title = \"The Big New Movie\"\n",
    "year = 2015"
   ]
  },
  {
   "cell_type": "markdown",
   "metadata": {},
   "source": [
    "### Criando elemento no banco do dynamoDB"
   ]
  },
  {
   "cell_type": "code",
   "execution_count": 4,
   "metadata": {},
   "outputs": [
    {
     "name": "stdout",
     "output_type": "stream",
     "text": [
      "PutItem succeeded:\n",
      "{\n",
      "    \"ResponseMetadata\": {\n",
      "        \"RequestId\": \"SQI1AUC2U84612AKPDC9EQJR3FVV4KQNSO5AEMVJF66Q9ASUAAJG\",\n",
      "        \"HTTPStatusCode\": 200,\n",
      "        \"HTTPHeaders\": {\n",
      "            \"server\": \"Server\",\n",
      "            \"date\": \"Fri, 01 Nov 2019 23:25:20 GMT\",\n",
      "            \"content-type\": \"application/x-amz-json-1.0\",\n",
      "            \"content-length\": \"2\",\n",
      "            \"connection\": \"keep-alive\",\n",
      "            \"x-amzn-requestid\": \"SQI1AUC2U84612AKPDC9EQJR3FVV4KQNSO5AEMVJF66Q9ASUAAJG\",\n",
      "            \"x-amz-crc32\": \"2745614147\"\n",
      "        },\n",
      "        \"RetryAttempts\": 0\n",
      "    }\n",
      "}\n"
     ]
    }
   ],
   "source": [
    "\n",
    "response = table.put_item(\n",
    "   Item={\n",
    "        'year': year,\n",
    "        'title': title,\n",
    "        'info': {\n",
    "            'plot':\"Nothing happens at all.\",\n",
    "            'rating': decimal.Decimal(0)\n",
    "        }\n",
    "    }\n",
    ")\n",
    "\n",
    "print(\"PutItem succeeded:\")\n",
    "print(json.dumps(response, indent=4, cls=DecimalEncoder))"
   ]
  },
  {
   "cell_type": "markdown",
   "metadata": {},
   "source": [
    "### Leitura do elemento inserido no banco"
   ]
  },
  {
   "cell_type": "code",
   "execution_count": 5,
   "metadata": {},
   "outputs": [
    {
     "name": "stdout",
     "output_type": "stream",
     "text": [
      "GetItem succeeded:\n",
      "{\n",
      "    \"year\": 2015,\n",
      "    \"info\": {\n",
      "        \"rating\": 0,\n",
      "        \"plot\": \"Nothing happens at all.\"\n",
      "    },\n",
      "    \"title\": \"The Big New Movie\"\n",
      "}\n"
     ]
    }
   ],
   "source": [
    "try:\n",
    "    response = table.get_item(\n",
    "        Key={\n",
    "            'year': year,\n",
    "            'title': title\n",
    "        }\n",
    "    )\n",
    "except ClientError as e:\n",
    "    print(e.response['Error']['Message'])\n",
    "else:\n",
    "    item = response['Item']\n",
    "    print(\"GetItem succeeded:\")\n",
    "    print(json.dumps(item, indent=4, cls=DecimalEncoder))"
   ]
  },
  {
   "cell_type": "markdown",
   "metadata": {},
   "source": [
    "### Atualização de elemento lido"
   ]
  },
  {
   "cell_type": "code",
   "execution_count": 6,
   "metadata": {},
   "outputs": [
    {
     "name": "stdout",
     "output_type": "stream",
     "text": [
      "UpdateItem succeeded:\n",
      "{\n",
      "    \"Attributes\": {\n",
      "        \"info\": {\n",
      "            \"actors\": [\n",
      "                \"Larry\",\n",
      "                \"Moe\",\n",
      "                \"Curly\"\n",
      "            ],\n",
      "            \"plot\": \"Everything happens all at once.\",\n",
      "            \"rating\": 5.5\n",
      "        }\n",
      "    },\n",
      "    \"ResponseMetadata\": {\n",
      "        \"RequestId\": \"1T31UKEFFISVPK1N1PE25HLMSVVV4KQNSO5AEMVJF66Q9ASUAAJG\",\n",
      "        \"HTTPStatusCode\": 200,\n",
      "        \"HTTPHeaders\": {\n",
      "            \"server\": \"Server\",\n",
      "            \"date\": \"Fri, 01 Nov 2019 23:25:27 GMT\",\n",
      "            \"content-type\": \"application/x-amz-json-1.0\",\n",
      "            \"content-length\": \"156\",\n",
      "            \"connection\": \"keep-alive\",\n",
      "            \"x-amzn-requestid\": \"1T31UKEFFISVPK1N1PE25HLMSVVV4KQNSO5AEMVJF66Q9ASUAAJG\",\n",
      "            \"x-amz-crc32\": \"3767510606\"\n",
      "        },\n",
      "        \"RetryAttempts\": 0\n",
      "    }\n",
      "}\n"
     ]
    }
   ],
   "source": [
    "response = table.update_item(\n",
    "    Key={\n",
    "        'year': year,\n",
    "        'title': title\n",
    "    },\n",
    "    UpdateExpression=\"set info.rating = :r, info.plot=:p, info.actors=:a\",\n",
    "    ExpressionAttributeValues={\n",
    "        ':r': decimal.Decimal(5.5),\n",
    "        ':p': \"Everything happens all at once.\",\n",
    "        ':a': [\"Larry\", \"Moe\", \"Curly\"]\n",
    "    },\n",
    "    ReturnValues=\"UPDATED_NEW\"\n",
    ")\n",
    "\n",
    "print(\"UpdateItem succeeded:\")\n",
    "print(json.dumps(response, indent=4, cls=DecimalEncoder))"
   ]
  },
  {
   "cell_type": "markdown",
   "metadata": {},
   "source": [
    "### Consulta de filmes de 1985"
   ]
  },
  {
   "cell_type": "code",
   "execution_count": 7,
   "metadata": {},
   "outputs": [
    {
     "name": "stdout",
     "output_type": "stream",
     "text": [
      "Movies from 1985\n"
     ]
    }
   ],
   "source": [
    "from boto3.dynamodb.conditions import Key, Attr\n",
    "print(\"Movies from 1985\")\n",
    "\n",
    "response = table.query(\n",
    "    KeyConditionExpression=Key('year').eq(1985)\n",
    ")\n",
    "\n",
    "for i in response['Items']:\n",
    "    print(i['year'], \":\", i['title'])"
   ]
  },
  {
   "cell_type": "markdown",
   "metadata": {},
   "source": [
    "### Consulta de filmes de 2015"
   ]
  },
  {
   "cell_type": "code",
   "execution_count": 8,
   "metadata": {},
   "outputs": [
    {
     "name": "stdout",
     "output_type": "stream",
     "text": [
      "Movies from 2015\n",
      "2015 : The Big New Movie\n"
     ]
    }
   ],
   "source": [
    "from boto3.dynamodb.conditions import Key, Attr\n",
    "print(\"Movies from 2015\")\n",
    "\n",
    "response = table.query(\n",
    "    KeyConditionExpression=Key('year').eq(2015)\n",
    ")\n",
    "\n",
    "for i in response['Items']:\n",
    "    print(i['year'], \":\", i['title'])"
   ]
  },
  {
   "cell_type": "markdown",
   "metadata": {},
   "source": [
    "### Apagando tabela de filmes (Opcional)"
   ]
  },
  {
   "cell_type": "raw",
   "metadata": {},
   "source": [
    "table = dynamodb.Table('Movies')\n",
    "\n",
    "table.delete()"
   ]
  },
  {
   "cell_type": "code",
   "execution_count": null,
   "metadata": {},
   "outputs": [],
   "source": []
  }
 ],
 "metadata": {
  "kernelspec": {
   "display_name": "Python 3",
   "language": "python",
   "name": "python3"
  },
  "language_info": {
   "codemirror_mode": {
    "name": "ipython",
    "version": 3
   },
   "file_extension": ".py",
   "mimetype": "text/x-python",
   "name": "python",
   "nbconvert_exporter": "python",
   "pygments_lexer": "ipython3",
   "version": "3.7.3"
  }
 },
 "nbformat": 4,
 "nbformat_minor": 2
}
